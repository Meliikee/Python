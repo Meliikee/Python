{
  "nbformat": 4,
  "nbformat_minor": 0,
  "metadata": {
    "colab": {
      "provenance": []
    },
    "kernelspec": {
      "name": "python3",
      "display_name": "Python 3"
    },
    "language_info": {
      "name": "python"
    }
  },
  "cells": [
    {
      "cell_type": "markdown",
      "source": [
        "# **Temel Veri Tipleri**"
      ],
      "metadata": {
        "id": "5PA9wBcsqvfb"
      }
    },
    {
      "cell_type": "markdown",
      "source": [
        "* Programlar veri objelerini manipüle\n",
        "ederek istediklerimizi yaparlar.\n",
        "\n",
        "* Programa istediğimizi yaptırmamız için girdilerimizi ve programın içerisinde kullanılacak verileri ifade edebilmemiz lazım.\n",
        "\n",
        "* Veri Objeleri ikiye ayrılır:\n",
        "1. Scaler: Daha alt parçalara bölünemeyen yapılar.\n",
        "2. Non-scalar: Daha alt parçalara bölünebilen, içsel yapısına erişilebilen yapılardır.\n",
        "\n",
        "* Her objenin bir tipi vardır. Program bu tiplere göre onlarla nasıl işlem yapabileceğine karar verir. Mesela iki tane sayıyı toplamak, iki tane sayıyı birleştirmek.."
      ],
      "metadata": {
        "id": "F-pfPaHKq8S4"
      }
    },
    {
      "cell_type": "markdown",
      "source": [
        "**1. Integers (Tam sayılar)**"
      ],
      "metadata": {
        "id": "rW846EogtSxp"
      }
    },
    {
      "cell_type": "code",
      "source": [
        "2"
      ],
      "metadata": {
        "colab": {
          "base_uri": "https://localhost:8080/"
        },
        "id": "WbsqTahEuHKd",
        "outputId": "c4da8bfd-0109-4d93-947a-3f1946208c5a"
      },
      "execution_count": null,
      "outputs": [
        {
          "output_type": "execute_result",
          "data": {
            "text/plain": [
              "2"
            ]
          },
          "metadata": {},
          "execution_count": 1
        }
      ]
    },
    {
      "cell_type": "code",
      "source": [
        "3"
      ],
      "metadata": {
        "colab": {
          "base_uri": "https://localhost:8080/"
        },
        "id": "v_3hn65FuLKJ",
        "outputId": "b967199e-e6bd-4e35-cac9-75cd89e62af3"
      },
      "execution_count": null,
      "outputs": [
        {
          "output_type": "execute_result",
          "data": {
            "text/plain": [
              "3"
            ]
          },
          "metadata": {},
          "execution_count": 2
        }
      ]
    },
    {
      "cell_type": "markdown",
      "source": [
        "**2. Floats (Kesirli sayılar)**"
      ],
      "metadata": {
        "id": "fQYMFfT9tnU7"
      }
    },
    {
      "cell_type": "code",
      "source": [
        "2.3"
      ],
      "metadata": {
        "colab": {
          "base_uri": "https://localhost:8080/"
        },
        "id": "AC56h-0quO3I",
        "outputId": "fb52e8f0-c9a1-42b0-ef7b-04d4686bfced"
      },
      "execution_count": null,
      "outputs": [
        {
          "output_type": "execute_result",
          "data": {
            "text/plain": [
              "2.3"
            ]
          },
          "metadata": {},
          "execution_count": 3
        }
      ]
    },
    {
      "cell_type": "code",
      "source": [
        "2.5"
      ],
      "metadata": {
        "colab": {
          "base_uri": "https://localhost:8080/"
        },
        "id": "tuLdA3LXuRCG",
        "outputId": "e8616ee1-c1ae-44cd-eea0-fedadf14cf02"
      },
      "execution_count": null,
      "outputs": [
        {
          "output_type": "execute_result",
          "data": {
            "text/plain": [
              "2.5"
            ]
          },
          "metadata": {},
          "execution_count": 4
        }
      ]
    },
    {
      "cell_type": "code",
      "source": [
        "2.0"
      ],
      "metadata": {
        "colab": {
          "base_uri": "https://localhost:8080/"
        },
        "id": "1CpacPMcuRQ9",
        "outputId": "6125d27e-0d63-4b0f-92c0-9295bee36bba"
      },
      "execution_count": null,
      "outputs": [
        {
          "output_type": "execute_result",
          "data": {
            "text/plain": [
              "2.0"
            ]
          },
          "metadata": {},
          "execution_count": 5
        }
      ]
    },
    {
      "cell_type": "markdown",
      "source": [
        "**3. Boolean**\n",
        "* Bir önermenin doğru veya yanlış olduğunu belirten bir yapı."
      ],
      "metadata": {
        "id": "nTbNRGa1t4_A"
      }
    },
    {
      "cell_type": "code",
      "execution_count": null,
      "metadata": {
        "colab": {
          "base_uri": "https://localhost:8080/"
        },
        "id": "KNkDndZ5ozYq",
        "outputId": "ed1f333f-da9d-4d23-fc1b-7ffd65399792"
      },
      "outputs": [
        {
          "output_type": "execute_result",
          "data": {
            "text/plain": [
              "True"
            ]
          },
          "metadata": {},
          "execution_count": 6
        }
      ],
      "source": [
        "True"
      ]
    },
    {
      "cell_type": "code",
      "source": [
        "False"
      ],
      "metadata": {
        "colab": {
          "base_uri": "https://localhost:8080/"
        },
        "id": "73ZONsFauqJI",
        "outputId": "21b57bc3-7559-4189-aa57-69a3ff0ede45"
      },
      "execution_count": null,
      "outputs": [
        {
          "output_type": "execute_result",
          "data": {
            "text/plain": [
              "False"
            ]
          },
          "metadata": {},
          "execution_count": 7
        }
      ]
    },
    {
      "cell_type": "code",
      "source": [
        "2 > 3"
      ],
      "metadata": {
        "colab": {
          "base_uri": "https://localhost:8080/"
        },
        "id": "yKjMwCEburad",
        "outputId": "19873ffe-805e-4fd2-eb56-5179e0d6bd5d"
      },
      "execution_count": null,
      "outputs": [
        {
          "output_type": "execute_result",
          "data": {
            "text/plain": [
              "False"
            ]
          },
          "metadata": {},
          "execution_count": 8
        }
      ]
    },
    {
      "cell_type": "markdown",
      "source": [
        "**type()**\n",
        "* Objelerin tiplerine type() ile bakabiliriz.\n"
      ],
      "metadata": {
        "id": "fQkAQ6QYu6aU"
      }
    },
    {
      "cell_type": "code",
      "source": [
        "type(2)"
      ],
      "metadata": {
        "colab": {
          "base_uri": "https://localhost:8080/"
        },
        "id": "5vymYZYEuyEl",
        "outputId": "917177ad-06a6-46d8-877f-6934fe446c49"
      },
      "execution_count": null,
      "outputs": [
        {
          "output_type": "execute_result",
          "data": {
            "text/plain": [
              "int"
            ]
          },
          "metadata": {},
          "execution_count": 9
        }
      ]
    },
    {
      "cell_type": "code",
      "source": [
        "type(2.8)"
      ],
      "metadata": {
        "colab": {
          "base_uri": "https://localhost:8080/"
        },
        "id": "OQ6NHNrHvQWv",
        "outputId": "db34366e-066b-44b8-c627-23c991c41f7b"
      },
      "execution_count": null,
      "outputs": [
        {
          "output_type": "execute_result",
          "data": {
            "text/plain": [
              "float"
            ]
          },
          "metadata": {},
          "execution_count": 10
        }
      ]
    },
    {
      "cell_type": "code",
      "source": [
        "type(True)"
      ],
      "metadata": {
        "colab": {
          "base_uri": "https://localhost:8080/"
        },
        "id": "bbm8I9grvSb4",
        "outputId": "77cb77fd-ad41-4f3e-e6a5-e6dd468b4b85"
      },
      "execution_count": null,
      "outputs": [
        {
          "output_type": "execute_result",
          "data": {
            "text/plain": [
              "bool"
            ]
          },
          "metadata": {},
          "execution_count": 11
        }
      ]
    },
    {
      "cell_type": "markdown",
      "source": [
        "**Type Casting (Tip Dönüştürmesi)**\n",
        "* Data objelerinin tipini değiştirebiliyoruz. Buna *Casting* deniyor."
      ],
      "metadata": {
        "id": "n8W3l20yvdtn"
      }
    },
    {
      "cell_type": "code",
      "source": [
        "int(2.4)"
      ],
      "metadata": {
        "colab": {
          "base_uri": "https://localhost:8080/"
        },
        "id": "KvyB6hVWvUd_",
        "outputId": "3f653a52-4328-4964-d952-962f3a902208"
      },
      "execution_count": null,
      "outputs": [
        {
          "output_type": "execute_result",
          "data": {
            "text/plain": [
              "2"
            ]
          },
          "metadata": {},
          "execution_count": 12
        }
      ]
    },
    {
      "cell_type": "code",
      "source": [
        "int(2.9)"
      ],
      "metadata": {
        "colab": {
          "base_uri": "https://localhost:8080/"
        },
        "id": "ShUWLnd6vvlW",
        "outputId": "8cf490da-7a60-4f32-d69f-984232e831dd"
      },
      "execution_count": null,
      "outputs": [
        {
          "output_type": "execute_result",
          "data": {
            "text/plain": [
              "2"
            ]
          },
          "metadata": {},
          "execution_count": 13
        }
      ]
    },
    {
      "cell_type": "code",
      "source": [
        "float(4)"
      ],
      "metadata": {
        "colab": {
          "base_uri": "https://localhost:8080/"
        },
        "id": "dqAnJEe6vvpM",
        "outputId": "0604f193-47b5-40cb-abee-0c656bcb04bb"
      },
      "execution_count": null,
      "outputs": [
        {
          "output_type": "execute_result",
          "data": {
            "text/plain": [
              "4.0"
            ]
          },
          "metadata": {},
          "execution_count": 14
        }
      ]
    },
    {
      "cell_type": "markdown",
      "source": [
        "**Variables (Değişkenler)**\n",
        "* Bazı değerleri bilgisayarın hafızasında tutmak ve daha sonra bunlara verdiğimiz adlarla erişmek isteyebiliriz. Bunu variable'lar ile gerçekleştireceğiz.\n"
      ],
      "metadata": {
        "id": "KW-9hKgKwThC"
      }
    },
    {
      "cell_type": "code",
      "source": [
        "a = 2"
      ],
      "metadata": {
        "id": "pXBbMiY-vvtp"
      },
      "execution_count": null,
      "outputs": []
    },
    {
      "cell_type": "code",
      "source": [
        "a"
      ],
      "metadata": {
        "colab": {
          "base_uri": "https://localhost:8080/"
        },
        "id": "D8T7N_5PvvxS",
        "outputId": "61863aa4-5937-48f2-b588-91329f35e94c"
      },
      "execution_count": null,
      "outputs": [
        {
          "output_type": "execute_result",
          "data": {
            "text/plain": [
              "2"
            ]
          },
          "metadata": {},
          "execution_count": 16
        }
      ]
    },
    {
      "cell_type": "code",
      "source": [
        "a + 5"
      ],
      "metadata": {
        "colab": {
          "base_uri": "https://localhost:8080/"
        },
        "id": "K1GMgDVFvv0E",
        "outputId": "723fcd0f-0a32-4217-d1e4-f829724dd2ed"
      },
      "execution_count": null,
      "outputs": [
        {
          "output_type": "execute_result",
          "data": {
            "text/plain": [
              "7"
            ]
          },
          "metadata": {},
          "execution_count": 17
        }
      ]
    },
    {
      "cell_type": "code",
      "source": [
        "b = 2 + 4"
      ],
      "metadata": {
        "id": "a6YaFgzEvv5C"
      },
      "execution_count": null,
      "outputs": []
    },
    {
      "cell_type": "code",
      "source": [
        "b"
      ],
      "metadata": {
        "colab": {
          "base_uri": "https://localhost:8080/"
        },
        "id": "TbymChiHvv8p",
        "outputId": "3b741601-16e4-4c0b-9a25-07a80a9a15c0"
      },
      "execution_count": null,
      "outputs": [
        {
          "output_type": "execute_result",
          "data": {
            "text/plain": [
              "6"
            ]
          },
          "metadata": {},
          "execution_count": 19
        }
      ]
    },
    {
      "cell_type": "code",
      "source": [
        "b + 4"
      ],
      "metadata": {
        "colab": {
          "base_uri": "https://localhost:8080/"
        },
        "id": "DHDpg9ROvwBQ",
        "outputId": "a6e0bdc9-3cf2-4a70-c4c0-ad2b1c6f4759"
      },
      "execution_count": null,
      "outputs": [
        {
          "output_type": "execute_result",
          "data": {
            "text/plain": [
              "10"
            ]
          },
          "metadata": {},
          "execution_count": 20
        }
      ]
    },
    {
      "cell_type": "markdown",
      "source": [
        "**Expression (İfadeler)**\n",
        "* Objeler ve operatörlerin birleşimi expressionları oluşturur.\n",
        "* Expressionların değerleri vardır ve tabii ki bunların tipleri vardır.\n",
        "* İfadeler şöyle oluşturulur: (object) (operatör) (object)\n",
        "* Expressionların tiplerini operatörün uygulandığı objelerin tipleri belirler."
      ],
      "metadata": {
        "id": "6HzQYweCzZH2"
      }
    },
    {
      "cell_type": "markdown",
      "source": [
        "**print()**\n",
        "* Bazen bazı değerleri bastırmak isteriz, bunun için print() metodunu kullanabiliriz."
      ],
      "metadata": {
        "id": "2mgsfEAP1rgc"
      }
    },
    {
      "cell_type": "markdown",
      "source": [
        "**String**\n"
      ],
      "metadata": {
        "id": "cSpCfkPdNgBF"
      }
    },
    {
      "cell_type": "markdown",
      "source": [
        "Stringler karakterlerden oluşan bir dizidir aslında. Stringlerin elemanları karakterlerdir."
      ],
      "metadata": {
        "id": "9Qji4kGDNj67"
      }
    },
    {
      "cell_type": "markdown",
      "source": [
        "* Stringler karakterlerden veya bunların kombinasyonundan oluşabilir.\n",
        "* Bir şeyin string olduğunu belirlemek için yazacaklarımızı ikili tırnak veya tekli tırnak içine yazarız.\n",
        "* String non-scalar bir veri tipi. İçsel yapı olarak karakterlerden oluşuyor.\n",
        "* Stringler immutable veri tipidir.\n",
        "* Immutable : Elemanlarının değerleri değiştirilemez."
      ],
      "metadata": {
        "id": "8ksxpW1MNv_8"
      }
    },
    {
      "cell_type": "code",
      "source": [
        "\"a\""
      ],
      "metadata": {
        "id": "ffWyJtRpxNAk",
        "colab": {
          "base_uri": "https://localhost:8080/",
          "height": 35
        },
        "outputId": "32297415-9f3a-4586-e0cb-eecf51d2c3fe"
      },
      "execution_count": 1,
      "outputs": [
        {
          "output_type": "execute_result",
          "data": {
            "text/plain": [
              "'a'"
            ],
            "application/vnd.google.colaboratory.intrinsic+json": {
              "type": "string"
            }
          },
          "metadata": {},
          "execution_count": 1
        }
      ]
    },
    {
      "cell_type": "code",
      "source": [
        "'a'"
      ],
      "metadata": {
        "id": "eracIjsYxNGa",
        "colab": {
          "base_uri": "https://localhost:8080/",
          "height": 35
        },
        "outputId": "27faa95e-60b7-4db4-d02f-995942c2c3ae"
      },
      "execution_count": 2,
      "outputs": [
        {
          "output_type": "execute_result",
          "data": {
            "text/plain": [
              "'a'"
            ],
            "application/vnd.google.colaboratory.intrinsic+json": {
              "type": "string"
            }
          },
          "metadata": {},
          "execution_count": 2
        }
      ]
    },
    {
      "cell_type": "code",
      "source": [
        "\"5\""
      ],
      "metadata": {
        "id": "fzM0J0ogxNLH",
        "colab": {
          "base_uri": "https://localhost:8080/",
          "height": 35
        },
        "outputId": "cd980a1a-0753-4713-d60c-a338466db1a9"
      },
      "execution_count": 3,
      "outputs": [
        {
          "output_type": "execute_result",
          "data": {
            "text/plain": [
              "'5'"
            ],
            "application/vnd.google.colaboratory.intrinsic+json": {
              "type": "string"
            }
          },
          "metadata": {},
          "execution_count": 3
        }
      ]
    },
    {
      "cell_type": "code",
      "source": [
        "\"5+10\""
      ],
      "metadata": {
        "id": "UlgtnrY-xNPU",
        "colab": {
          "base_uri": "https://localhost:8080/",
          "height": 35
        },
        "outputId": "a1311d66-f8a9-46c9-e2e7-bc14629f8adf"
      },
      "execution_count": 4,
      "outputs": [
        {
          "output_type": "execute_result",
          "data": {
            "text/plain": [
              "'5+10'"
            ],
            "application/vnd.google.colaboratory.intrinsic+json": {
              "type": "string"
            }
          },
          "metadata": {},
          "execution_count": 4
        }
      ]
    },
    {
      "cell_type": "code",
      "source": [
        "\"Bugün 5 top dondurma yedim.\""
      ],
      "metadata": {
        "id": "SZ35kZyuxNTl",
        "colab": {
          "base_uri": "https://localhost:8080/",
          "height": 35
        },
        "outputId": "486b9600-f015-4b2b-e6b9-e171853b0901"
      },
      "execution_count": 5,
      "outputs": [
        {
          "output_type": "execute_result",
          "data": {
            "text/plain": [
              "'Bugün 5 top dondurma yedim.'"
            ],
            "application/vnd.google.colaboratory.intrinsic+json": {
              "type": "string"
            }
          },
          "metadata": {},
          "execution_count": 5
        }
      ]
    },
    {
      "cell_type": "code",
      "source": [
        "type(\"Melike\")"
      ],
      "metadata": {
        "id": "DUtMySquxNX4",
        "colab": {
          "base_uri": "https://localhost:8080/"
        },
        "outputId": "fcd915be-6039-4fb7-b5e4-0b13ced3cb96"
      },
      "execution_count": 6,
      "outputs": [
        {
          "output_type": "execute_result",
          "data": {
            "text/plain": [
              "str"
            ]
          },
          "metadata": {},
          "execution_count": 6
        }
      ]
    },
    {
      "cell_type": "code",
      "source": [
        "\"Bana 'Bugün ne yapıyorsun?' dedi.\""
      ],
      "metadata": {
        "id": "X5K9dUKoxNbv",
        "colab": {
          "base_uri": "https://localhost:8080/",
          "height": 35
        },
        "outputId": "b9d7d9e9-6591-468e-f4db-fefe951367e5"
      },
      "execution_count": 7,
      "outputs": [
        {
          "output_type": "execute_result",
          "data": {
            "text/plain": [
              "\"Bana 'Bugün ne yapıyorsun?' dedi.\""
            ],
            "application/vnd.google.colaboratory.intrinsic+json": {
              "type": "string"
            }
          },
          "metadata": {},
          "execution_count": 7
        }
      ]
    },
    {
      "cell_type": "markdown",
      "source": [
        "**Escape sequences**"
      ],
      "metadata": {
        "id": "Gkygxpz6UDry"
      }
    },
    {
      "cell_type": "code",
      "source": [
        "\"Bana \\\"Bugün ne yapıyorsun?\\\" dedi.\""
      ],
      "metadata": {
        "id": "GuupuN3FxNfs",
        "colab": {
          "base_uri": "https://localhost:8080/",
          "height": 35
        },
        "outputId": "a93022e2-dea7-4802-862f-2e41e9b93a91"
      },
      "execution_count": 8,
      "outputs": [
        {
          "output_type": "execute_result",
          "data": {
            "text/plain": [
              "'Bana \"Bugün ne yapıyorsun?\" dedi.'"
            ],
            "application/vnd.google.colaboratory.intrinsic+json": {
              "type": "string"
            }
          },
          "metadata": {},
          "execution_count": 8
        }
      ]
    },
    {
      "cell_type": "code",
      "source": [
        "print(\"Hey\\nnasılsın?\")"
      ],
      "metadata": {
        "id": "Pn7LJciAxNjm",
        "colab": {
          "base_uri": "https://localhost:8080/"
        },
        "outputId": "733a5128-385c-45d6-ee18-a10a7ed0503b"
      },
      "execution_count": 9,
      "outputs": [
        {
          "output_type": "stream",
          "name": "stdout",
          "text": [
            "Hey\n",
            "nasılsın?\n"
          ]
        }
      ]
    },
    {
      "cell_type": "code",
      "source": [
        "print(\"hmm \\\\\")"
      ],
      "metadata": {
        "id": "ZNVi1fxBxNn0",
        "colab": {
          "base_uri": "https://localhost:8080/"
        },
        "outputId": "7137c49d-ebce-4f07-a166-1dbd778afa22"
      },
      "execution_count": 10,
      "outputs": [
        {
          "output_type": "stream",
          "name": "stdout",
          "text": [
            "hmm \\\n"
          ]
        }
      ]
    },
    {
      "cell_type": "markdown",
      "source": [
        "**Stringlerde değer atama (Variable assignment)**"
      ],
      "metadata": {
        "id": "azG4RFbqVNSt"
      }
    },
    {
      "cell_type": "code",
      "source": [
        "merhaba = \"Merhaba, nasılsın bugün?\""
      ],
      "metadata": {
        "id": "HOBXm6LzxNsR"
      },
      "execution_count": 11,
      "outputs": []
    },
    {
      "cell_type": "code",
      "source": [
        "print(merhaba)"
      ],
      "metadata": {
        "id": "PV7U3fnSxNwX",
        "colab": {
          "base_uri": "https://localhost:8080/"
        },
        "outputId": "3e1a6454-6a98-4b52-dfea-7092c92fba19"
      },
      "execution_count": 12,
      "outputs": [
        {
          "output_type": "stream",
          "name": "stdout",
          "text": [
            "Merhaba, nasılsın bugün?\n"
          ]
        }
      ]
    },
    {
      "cell_type": "markdown",
      "source": [
        "**String Concatenation**"
      ],
      "metadata": {
        "id": "9aQt_TsLV4Hn"
      }
    },
    {
      "cell_type": "markdown",
      "source": [
        "(+) operatörü sayısal veri tipleri üzerine etki edince toplama işlemi yapıyor. Ama uygulandığı objeler string ise yapacağı işlem concatenation (birleştirme) olacak. İki string'i ard arda birleştirecek.\n",
        "\n"
      ],
      "metadata": {
        "id": "GBQEg3MnV_ab"
      }
    },
    {
      "cell_type": "code",
      "source": [
        "\"5\"+\"4\""
      ],
      "metadata": {
        "id": "aXQ1SrAexN1E",
        "colab": {
          "base_uri": "https://localhost:8080/",
          "height": 35
        },
        "outputId": "7763d79d-0414-4693-e995-77fe67c895fc"
      },
      "execution_count": 13,
      "outputs": [
        {
          "output_type": "execute_result",
          "data": {
            "text/plain": [
              "'54'"
            ],
            "application/vnd.google.colaboratory.intrinsic+json": {
              "type": "string"
            }
          },
          "metadata": {},
          "execution_count": 13
        }
      ]
    },
    {
      "cell_type": "code",
      "source": [
        "\"hey\" + \" nasılsın?\""
      ],
      "metadata": {
        "id": "V9qeoCKbxN5b",
        "colab": {
          "base_uri": "https://localhost:8080/",
          "height": 35
        },
        "outputId": "6d4e2b25-cea0-4ac9-8fd4-d516d8cc0568"
      },
      "execution_count": 15,
      "outputs": [
        {
          "output_type": "execute_result",
          "data": {
            "text/plain": [
              "'hey nasılsın?'"
            ],
            "application/vnd.google.colaboratory.intrinsic+json": {
              "type": "string"
            }
          },
          "metadata": {},
          "execution_count": 15
        }
      ]
    },
    {
      "cell_type": "code",
      "source": [
        "\"hey\" + \" \" + \"nasılsın?\""
      ],
      "metadata": {
        "id": "MBFhVjBZxN9K",
        "colab": {
          "base_uri": "https://localhost:8080/",
          "height": 35
        },
        "outputId": "3b016249-e630-41b9-c720-fc26fc8bf6d3"
      },
      "execution_count": 16,
      "outputs": [
        {
          "output_type": "execute_result",
          "data": {
            "text/plain": [
              "'hey nasılsın?'"
            ],
            "application/vnd.google.colaboratory.intrinsic+json": {
              "type": "string"
            }
          },
          "metadata": {},
          "execution_count": 16
        }
      ]
    },
    {
      "cell_type": "code",
      "source": [
        "mesaj = \"Merhaba,\""
      ],
      "metadata": {
        "id": "_EoSIbJbxOAu"
      },
      "execution_count": 17,
      "outputs": []
    },
    {
      "cell_type": "code",
      "source": [
        "isim = \"Melike\""
      ],
      "metadata": {
        "id": "_kOPkom4xOFL"
      },
      "execution_count": 18,
      "outputs": []
    },
    {
      "cell_type": "code",
      "source": [
        "mesaj + \" \" + isim"
      ],
      "metadata": {
        "id": "Kl5eUTABxOIh",
        "colab": {
          "base_uri": "https://localhost:8080/",
          "height": 35
        },
        "outputId": "0cae36d0-f6e0-4d91-bdc5-4fd4c5a8b211"
      },
      "execution_count": 19,
      "outputs": [
        {
          "output_type": "execute_result",
          "data": {
            "text/plain": [
              "'Merhaba, Melike'"
            ],
            "application/vnd.google.colaboratory.intrinsic+json": {
              "type": "string"
            }
          },
          "metadata": {},
          "execution_count": 19
        }
      ]
    },
    {
      "cell_type": "markdown",
      "source": [
        "**Successive concatenation (Ardışık Birleştirme)**\n",
        "\n",
        "* (*) operatörü sayı objeleri için çarpım olarak tanımlanmışken, stringler için ard arda birleştirme işlemi yapıyor."
      ],
      "metadata": {
        "id": "-K_hMM9SYy61"
      }
    },
    {
      "cell_type": "code",
      "source": [
        "4 * \"Hey!\""
      ],
      "metadata": {
        "id": "K0oD1uNpxOM3",
        "colab": {
          "base_uri": "https://localhost:8080/",
          "height": 35
        },
        "outputId": "f4f31444-ce69-40a5-e3b1-71f863810cd2"
      },
      "execution_count": 20,
      "outputs": [
        {
          "output_type": "execute_result",
          "data": {
            "text/plain": [
              "'Hey!Hey!Hey!Hey!'"
            ],
            "application/vnd.google.colaboratory.intrinsic+json": {
              "type": "string"
            }
          },
          "metadata": {},
          "execution_count": 20
        }
      ]
    },
    {
      "cell_type": "code",
      "source": [
        "\"1\" + 10*\"0\""
      ],
      "metadata": {
        "id": "7xSbYJqaxORK",
        "colab": {
          "base_uri": "https://localhost:8080/",
          "height": 35
        },
        "outputId": "48302b47-4ee2-480f-985b-d5ab3367d949"
      },
      "execution_count": 21,
      "outputs": [
        {
          "output_type": "execute_result",
          "data": {
            "text/plain": [
              "'10000000000'"
            ],
            "application/vnd.google.colaboratory.intrinsic+json": {
              "type": "string"
            }
          },
          "metadata": {},
          "execution_count": 21
        }
      ]
    },
    {
      "cell_type": "markdown",
      "source": [
        "**len()**"
      ],
      "metadata": {
        "id": "3FEmFKdSZpCp"
      }
    },
    {
      "cell_type": "code",
      "source": [
        "len(\"42\")"
      ],
      "metadata": {
        "id": "uNeoxjKFxOVG",
        "colab": {
          "base_uri": "https://localhost:8080/"
        },
        "outputId": "27e2d9fb-a498-43fc-c5d8-1b254d5e62ee"
      },
      "execution_count": 22,
      "outputs": [
        {
          "output_type": "execute_result",
          "data": {
            "text/plain": [
              "2"
            ]
          },
          "metadata": {},
          "execution_count": 22
        }
      ]
    },
    {
      "cell_type": "code",
      "source": [
        "len(\"Melike\")"
      ],
      "metadata": {
        "id": "n0LdQyivxOZY",
        "colab": {
          "base_uri": "https://localhost:8080/"
        },
        "outputId": "4ece193a-5699-4246-bd17-1ce69aca2948"
      },
      "execution_count": 23,
      "outputs": [
        {
          "output_type": "execute_result",
          "data": {
            "text/plain": [
              "6"
            ]
          },
          "metadata": {},
          "execution_count": 23
        }
      ]
    },
    {
      "cell_type": "code",
      "source": [
        "len(\" \")"
      ],
      "metadata": {
        "id": "5PHzYDuHxOdR",
        "colab": {
          "base_uri": "https://localhost:8080/"
        },
        "outputId": "be7bf4fa-16c8-4b00-c5c0-6e4b01da4b35"
      },
      "execution_count": 24,
      "outputs": [
        {
          "output_type": "execute_result",
          "data": {
            "text/plain": [
              "1"
            ]
          },
          "metadata": {},
          "execution_count": 24
        }
      ]
    },
    {
      "cell_type": "markdown",
      "source": [
        "**Indexing (Elemanlara Erişim)**"
      ],
      "metadata": {
        "id": "X3Kp96UaapSY"
      }
    },
    {
      "cell_type": "markdown",
      "source": [
        "Bir yapının alt elemanlarına erişmek için yapacağımız işleme indexing deniyor. Bunu [ ] ile sağlayacağız."
      ],
      "metadata": {
        "id": "grrq-bKHauv5"
      }
    },
    {
      "cell_type": "code",
      "source": [
        "isim = \"Melike\""
      ],
      "metadata": {
        "id": "Pq0Aij7lZ6NK"
      },
      "execution_count": 25,
      "outputs": []
    },
    {
      "cell_type": "code",
      "source": [
        "isim[0]"
      ],
      "metadata": {
        "colab": {
          "base_uri": "https://localhost:8080/",
          "height": 35
        },
        "id": "Nhf1L1kNbGAn",
        "outputId": "21268809-1149-4a16-b24f-b27203696739"
      },
      "execution_count": 26,
      "outputs": [
        {
          "output_type": "execute_result",
          "data": {
            "text/plain": [
              "'M'"
            ],
            "application/vnd.google.colaboratory.intrinsic+json": {
              "type": "string"
            }
          },
          "metadata": {},
          "execution_count": 26
        }
      ]
    },
    {
      "cell_type": "code",
      "source": [
        "len(isim)"
      ],
      "metadata": {
        "colab": {
          "base_uri": "https://localhost:8080/"
        },
        "id": "fbejJW9jbGDB",
        "outputId": "c20cca43-6292-497e-ba5a-4545f3e90b66"
      },
      "execution_count": 27,
      "outputs": [
        {
          "output_type": "execute_result",
          "data": {
            "text/plain": [
              "6"
            ]
          },
          "metadata": {},
          "execution_count": 27
        }
      ]
    },
    {
      "cell_type": "code",
      "source": [
        "isim[len(isim)-1]"
      ],
      "metadata": {
        "colab": {
          "base_uri": "https://localhost:8080/",
          "height": 35
        },
        "id": "HRWZDKRRbGFt",
        "outputId": "378052da-7363-46bf-f24c-ce96bd5be3d5"
      },
      "execution_count": 28,
      "outputs": [
        {
          "output_type": "execute_result",
          "data": {
            "text/plain": [
              "'e'"
            ],
            "application/vnd.google.colaboratory.intrinsic+json": {
              "type": "string"
            }
          },
          "metadata": {},
          "execution_count": 28
        }
      ]
    },
    {
      "cell_type": "code",
      "source": [
        "isim[-1]"
      ],
      "metadata": {
        "colab": {
          "base_uri": "https://localhost:8080/",
          "height": 35
        },
        "id": "9HCI4BQHbGHs",
        "outputId": "95887301-2079-4326-dc82-1b0ab8c0520a"
      },
      "execution_count": 29,
      "outputs": [
        {
          "output_type": "execute_result",
          "data": {
            "text/plain": [
              "'e'"
            ],
            "application/vnd.google.colaboratory.intrinsic+json": {
              "type": "string"
            }
          },
          "metadata": {},
          "execution_count": 29
        }
      ]
    },
    {
      "cell_type": "code",
      "source": [
        "isim[-2]"
      ],
      "metadata": {
        "colab": {
          "base_uri": "https://localhost:8080/",
          "height": 35
        },
        "id": "vJka0Mp9bGKA",
        "outputId": "300f02ec-d6e4-4d99-c898-ec5c565231bc"
      },
      "execution_count": 30,
      "outputs": [
        {
          "output_type": "execute_result",
          "data": {
            "text/plain": [
              "'k'"
            ],
            "application/vnd.google.colaboratory.intrinsic+json": {
              "type": "string"
            }
          },
          "metadata": {},
          "execution_count": 30
        }
      ]
    },
    {
      "cell_type": "markdown",
      "source": [
        "* String'lerin elemanları değiştirilemez. Immutable."
      ],
      "metadata": {
        "id": "pbuCl-St8FRw"
      }
    },
    {
      "cell_type": "markdown",
      "source": [
        "**Slicing (Dilimleme)**\n",
        "\n",
        "Indexing ile sonuç olarak sadece bir eleman elde ettik. Ama birkaç tanesini arka arkaya, bir öbek olarak istiyorsak:"
      ],
      "metadata": {
        "id": "uc6ZTR0V8Rpv"
      }
    },
    {
      "cell_type": "code",
      "source": [
        "isim"
      ],
      "metadata": {
        "colab": {
          "base_uri": "https://localhost:8080/",
          "height": 35
        },
        "id": "MSCFTR-5bGNg",
        "outputId": "5d70f11c-7fb2-476f-a7e3-3282108c2350"
      },
      "execution_count": 31,
      "outputs": [
        {
          "output_type": "execute_result",
          "data": {
            "text/plain": [
              "'Melike'"
            ],
            "application/vnd.google.colaboratory.intrinsic+json": {
              "type": "string"
            }
          },
          "metadata": {},
          "execution_count": 31
        }
      ]
    },
    {
      "cell_type": "code",
      "source": [
        "isim[0:3]"
      ],
      "metadata": {
        "colab": {
          "base_uri": "https://localhost:8080/",
          "height": 35
        },
        "id": "ivgwGF5YbGeA",
        "outputId": "234731ca-e255-452b-8aec-eb2608215cbc"
      },
      "execution_count": 32,
      "outputs": [
        {
          "output_type": "execute_result",
          "data": {
            "text/plain": [
              "'Mel'"
            ],
            "application/vnd.google.colaboratory.intrinsic+json": {
              "type": "string"
            }
          },
          "metadata": {},
          "execution_count": 32
        }
      ]
    },
    {
      "cell_type": "code",
      "source": [
        "isim[:5]"
      ],
      "metadata": {
        "colab": {
          "base_uri": "https://localhost:8080/",
          "height": 35
        },
        "id": "K6TrqspabGgp",
        "outputId": "ada15583-619c-49b3-9e82-f8a117ebd767"
      },
      "execution_count": 33,
      "outputs": [
        {
          "output_type": "execute_result",
          "data": {
            "text/plain": [
              "'Melik'"
            ],
            "application/vnd.google.colaboratory.intrinsic+json": {
              "type": "string"
            }
          },
          "metadata": {},
          "execution_count": 33
        }
      ]
    },
    {
      "cell_type": "code",
      "source": [
        "isim[2:]"
      ],
      "metadata": {
        "colab": {
          "base_uri": "https://localhost:8080/",
          "height": 35
        },
        "id": "TDh2zRDIbGjM",
        "outputId": "289a81db-1991-4179-afcc-6e28c4918f1c"
      },
      "execution_count": 34,
      "outputs": [
        {
          "output_type": "execute_result",
          "data": {
            "text/plain": [
              "'like'"
            ],
            "application/vnd.google.colaboratory.intrinsic+json": {
              "type": "string"
            }
          },
          "metadata": {},
          "execution_count": 34
        }
      ]
    },
    {
      "cell_type": "code",
      "source": [
        "isim[:]"
      ],
      "metadata": {
        "colab": {
          "base_uri": "https://localhost:8080/",
          "height": 35
        },
        "id": "ClswmAM-bGlY",
        "outputId": "41369883-d6e0-46e1-cb8b-bb0567757ed9"
      },
      "execution_count": 35,
      "outputs": [
        {
          "output_type": "execute_result",
          "data": {
            "text/plain": [
              "'Melike'"
            ],
            "application/vnd.google.colaboratory.intrinsic+json": {
              "type": "string"
            }
          },
          "metadata": {},
          "execution_count": 35
        }
      ]
    },
    {
      "cell_type": "code",
      "source": [
        "isim[2:20]"
      ],
      "metadata": {
        "colab": {
          "base_uri": "https://localhost:8080/",
          "height": 35
        },
        "id": "CGTxkAwIbGnq",
        "outputId": "f1929cf8-6a6c-454d-eaa1-1f29decc6fd5"
      },
      "execution_count": 36,
      "outputs": [
        {
          "output_type": "execute_result",
          "data": {
            "text/plain": [
              "'like'"
            ],
            "application/vnd.google.colaboratory.intrinsic+json": {
              "type": "string"
            }
          },
          "metadata": {},
          "execution_count": 36
        }
      ]
    },
    {
      "cell_type": "code",
      "source": [
        "isim[::2]"
      ],
      "metadata": {
        "colab": {
          "base_uri": "https://localhost:8080/",
          "height": 35
        },
        "id": "vJJxXU-qbGqH",
        "outputId": "edccedf5-cef7-4fc6-905a-55ce11a8dcae"
      },
      "execution_count": 37,
      "outputs": [
        {
          "output_type": "execute_result",
          "data": {
            "text/plain": [
              "'Mlk'"
            ],
            "application/vnd.google.colaboratory.intrinsic+json": {
              "type": "string"
            }
          },
          "metadata": {},
          "execution_count": 37
        }
      ]
    },
    {
      "cell_type": "code",
      "source": [
        "isim[6::-1]"
      ],
      "metadata": {
        "colab": {
          "base_uri": "https://localhost:8080/",
          "height": 35
        },
        "id": "SyKjsYazbGss",
        "outputId": "bcbcde43-64b9-4c9c-b869-c592796adc1a"
      },
      "execution_count": 38,
      "outputs": [
        {
          "output_type": "execute_result",
          "data": {
            "text/plain": [
              "'ekileM'"
            ],
            "application/vnd.google.colaboratory.intrinsic+json": {
              "type": "string"
            }
          },
          "metadata": {},
          "execution_count": 38
        }
      ]
    },
    {
      "cell_type": "markdown",
      "source": [
        "**Casting in Strings**"
      ],
      "metadata": {
        "id": "hKtgVrrh-OdO"
      }
    },
    {
      "cell_type": "code",
      "source": [
        "a = \"5\""
      ],
      "metadata": {
        "id": "NPfBk6dKbGv5"
      },
      "execution_count": 39,
      "outputs": []
    },
    {
      "cell_type": "code",
      "source": [
        "b = \"5.6\""
      ],
      "metadata": {
        "id": "oV2wAAG2bIRd"
      },
      "execution_count": 40,
      "outputs": []
    },
    {
      "cell_type": "code",
      "source": [
        "int(a)"
      ],
      "metadata": {
        "colab": {
          "base_uri": "https://localhost:8080/"
        },
        "id": "-YA5TPBa-e_T",
        "outputId": "132b2bd3-62d3-4ff1-9100-99a9cea12fb8"
      },
      "execution_count": 41,
      "outputs": [
        {
          "output_type": "execute_result",
          "data": {
            "text/plain": [
              "5"
            ]
          },
          "metadata": {},
          "execution_count": 41
        }
      ]
    },
    {
      "cell_type": "code",
      "source": [
        "float(b)"
      ],
      "metadata": {
        "colab": {
          "base_uri": "https://localhost:8080/"
        },
        "id": "Pozgrjiq-gXS",
        "outputId": "61d1f5dd-f94e-4125-8878-d6a8b8bee64b"
      },
      "execution_count": 42,
      "outputs": [
        {
          "output_type": "execute_result",
          "data": {
            "text/plain": [
              "5.6"
            ]
          },
          "metadata": {},
          "execution_count": 42
        }
      ]
    },
    {
      "cell_type": "code",
      "source": [
        "float(a)"
      ],
      "metadata": {
        "colab": {
          "base_uri": "https://localhost:8080/"
        },
        "id": "hcHQFnS1-h_P",
        "outputId": "e6e152b6-1d52-4303-bc79-a359cf00ca94"
      },
      "execution_count": 43,
      "outputs": [
        {
          "output_type": "execute_result",
          "data": {
            "text/plain": [
              "5.0"
            ]
          },
          "metadata": {},
          "execution_count": 43
        }
      ]
    },
    {
      "cell_type": "code",
      "source": [
        "int(float(b))"
      ],
      "metadata": {
        "colab": {
          "base_uri": "https://localhost:8080/"
        },
        "id": "NCiUKOCA-ljV",
        "outputId": "c7434bc1-f34b-4566-9adf-523c9784188f"
      },
      "execution_count": 45,
      "outputs": [
        {
          "output_type": "execute_result",
          "data": {
            "text/plain": [
              "5"
            ]
          },
          "metadata": {},
          "execution_count": 45
        }
      ]
    },
    {
      "cell_type": "markdown",
      "source": [
        "**Input**\n",
        "\n",
        "* Bazen kullanacağımız değeri kullanıcıdan almak isteyebiliriz. Bunu input metodu ile yapacağız."
      ],
      "metadata": {
        "id": "43Bfz86A-5Yc"
      }
    },
    {
      "cell_type": "code",
      "source": [
        "x = input(\"Bir sayı girin: \")"
      ],
      "metadata": {
        "colab": {
          "base_uri": "https://localhost:8080/"
        },
        "id": "knfXFv5t-ptS",
        "outputId": "230c43d3-b9ae-4bbe-cdcc-6334bb2f785a"
      },
      "execution_count": 46,
      "outputs": [
        {
          "name": "stdout",
          "output_type": "stream",
          "text": [
            "Bir sayı girin: 5\n"
          ]
        }
      ]
    },
    {
      "cell_type": "code",
      "source": [
        "x"
      ],
      "metadata": {
        "colab": {
          "base_uri": "https://localhost:8080/",
          "height": 35
        },
        "id": "tES6fiVX-0lX",
        "outputId": "8032993f-a845-49b6-ccb4-c28f212d2073"
      },
      "execution_count": 47,
      "outputs": [
        {
          "output_type": "execute_result",
          "data": {
            "text/plain": [
              "'5'"
            ],
            "application/vnd.google.colaboratory.intrinsic+json": {
              "type": "string"
            }
          },
          "metadata": {},
          "execution_count": 47
        }
      ]
    },
    {
      "cell_type": "code",
      "source": [
        "int(x) + 10"
      ],
      "metadata": {
        "colab": {
          "base_uri": "https://localhost:8080/"
        },
        "id": "Bvg1nfNd-0ps",
        "outputId": "b9dd0525-8caf-4da8-9877-4b931597ffff"
      },
      "execution_count": 48,
      "outputs": [
        {
          "output_type": "execute_result",
          "data": {
            "text/plain": [
              "15"
            ]
          },
          "metadata": {},
          "execution_count": 48
        }
      ]
    },
    {
      "cell_type": "code",
      "source": [
        "z = int(input(\"Bir sayı girin: \"))"
      ],
      "metadata": {
        "colab": {
          "base_uri": "https://localhost:8080/"
        },
        "id": "gD1tDrrX-0uj",
        "outputId": "336dc881-7ba0-42d0-ed2d-5e61c7dab514"
      },
      "execution_count": 49,
      "outputs": [
        {
          "name": "stdout",
          "output_type": "stream",
          "text": [
            "Bir sayı girin: 8\n"
          ]
        }
      ]
    },
    {
      "cell_type": "code",
      "source": [
        "z + 12"
      ],
      "metadata": {
        "colab": {
          "base_uri": "https://localhost:8080/"
        },
        "id": "wMQPZfj1-0xy",
        "outputId": "84e7e3ba-a74b-430d-9015-3db883bec11d"
      },
      "execution_count": 50,
      "outputs": [
        {
          "output_type": "execute_result",
          "data": {
            "text/plain": [
              "20"
            ]
          },
          "metadata": {},
          "execution_count": 50
        }
      ]
    },
    {
      "cell_type": "code",
      "source": [
        "isim = input(\"İsminizi giriniz: \")"
      ],
      "metadata": {
        "colab": {
          "base_uri": "https://localhost:8080/"
        },
        "id": "5II3xUTI-02b",
        "outputId": "bd90e486-09c9-4f2c-8bc5-f9383679427d"
      },
      "execution_count": 51,
      "outputs": [
        {
          "name": "stdout",
          "output_type": "stream",
          "text": [
            "İsminizi giriniz: Melike\n"
          ]
        }
      ]
    },
    {
      "cell_type": "code",
      "source": [
        "\"Merhaba\" + \" \" + isim"
      ],
      "metadata": {
        "colab": {
          "base_uri": "https://localhost:8080/",
          "height": 35
        },
        "id": "s-hhNJEx-066",
        "outputId": "8ccc3ac4-fa03-4f1c-91fb-a198680d5e0b"
      },
      "execution_count": 52,
      "outputs": [
        {
          "output_type": "execute_result",
          "data": {
            "text/plain": [
              "'Merhaba Melike'"
            ],
            "application/vnd.google.colaboratory.intrinsic+json": {
              "type": "string"
            }
          },
          "metadata": {},
          "execution_count": 52
        }
      ]
    },
    {
      "cell_type": "markdown",
      "source": [
        "**Comments**\n",
        "\n",
        "* Yazdığımız kodun ne yaptığını anlatan açıklamalar..\n",
        "* Yorumlar sadece insanların okuması için, program çalışırken burası program tarafından algılanmayacak."
      ],
      "metadata": {
        "id": "FNPq4FgbAOeC"
      }
    },
    {
      "cell_type": "markdown",
      "source": [
        "Tek satıra yorum eklemek : #"
      ],
      "metadata": {
        "id": "Gzqi9S5xBUfk"
      }
    },
    {
      "cell_type": "code",
      "source": [
        "# limon değişkeni satılan limonları ifade ediyor.\n",
        "limon = 20"
      ],
      "metadata": {
        "id": "yahfJO0Q-0_N"
      },
      "execution_count": 53,
      "outputs": []
    },
    {
      "cell_type": "markdown",
      "source": [
        "Birden çok satırı kapsayan yorum yazmak : \"\"\" ... \"\"\""
      ],
      "metadata": {
        "id": "TNTQ7ACbBkMg"
      }
    },
    {
      "cell_type": "code",
      "source": [
        "\"\"\"\n",
        "limon değişkeni\n",
        "satılan limonları\n",
        "ifade ediyor.\n",
        "\"\"\"\n",
        "\n",
        "limon = 25"
      ],
      "metadata": {
        "id": "V9hG_M5U-1Cr"
      },
      "execution_count": 54,
      "outputs": []
    },
    {
      "cell_type": "markdown",
      "source": [
        "**Nümerik Veri Tiplerinde Karşılaştırma**\n",
        "\n",
        "* Bir programın farklı durumlar olduğunda başka davranışlar göstermesini isteyebiliriz. Bunun için belirli testler yapmam lazım ve bu testlerin sonucuna göre farklı davranışlar tasarlamam lazım.\n",
        "* Bu testler için verilerimizi birbiri ile karşılaştırabilir olmamız lazım. Bunları (Comparison Operator'lar) ile yapacağız."
      ],
      "metadata": {
        "id": "WSA5Du0lCWSU"
      }
    },
    {
      "cell_type": "markdown",
      "source": [
        "* i == j eşitlik testi. i ve j birbirine eşitse bu ifadenin değeri boolean veri objesi True , eşit değilse False olacak. = değişken atama operatörü olarak tanımlandığı için eşitlik test ederken onu kullanırsak ='in sağındaki değere solundaki adı vermiş oluruz.\n",
        "\n",
        "* i != j eşitsizlik testi. i ve j birbirine eşit değilse bu ifadenin değeri boolean veri objesi True , eşitse False olacak.\n",
        "\n",
        "* i > j , i >= j , i < j , i <= j vb."
      ],
      "metadata": {
        "id": "Nb567-3TDLsQ"
      }
    },
    {
      "cell_type": "code",
      "source": [
        "5 == 4"
      ],
      "metadata": {
        "colab": {
          "base_uri": "https://localhost:8080/"
        },
        "id": "Ou8j_9jX-1Fp",
        "outputId": "76fb8407-ba02-4c31-c6ee-a24d6683725f"
      },
      "execution_count": 55,
      "outputs": [
        {
          "output_type": "execute_result",
          "data": {
            "text/plain": [
              "False"
            ]
          },
          "metadata": {},
          "execution_count": 55
        }
      ]
    },
    {
      "cell_type": "code",
      "source": [
        "4 == 4"
      ],
      "metadata": {
        "colab": {
          "base_uri": "https://localhost:8080/"
        },
        "id": "hj1XmVYW-1Ix",
        "outputId": "cdf4587d-a2e1-4c10-bb42-b543c10479f6"
      },
      "execution_count": 56,
      "outputs": [
        {
          "output_type": "execute_result",
          "data": {
            "text/plain": [
              "True"
            ]
          },
          "metadata": {},
          "execution_count": 56
        }
      ]
    },
    {
      "cell_type": "code",
      "source": [
        "i = 10\n",
        "j = 20"
      ],
      "metadata": {
        "id": "pQlCWaxj-1N3"
      },
      "execution_count": 57,
      "outputs": []
    },
    {
      "cell_type": "code",
      "source": [
        "i != j"
      ],
      "metadata": {
        "colab": {
          "base_uri": "https://localhost:8080/"
        },
        "id": "bhyTHtqf-1RO",
        "outputId": "36745605-cd1e-4bf8-bee0-65087cb7f49f"
      },
      "execution_count": 58,
      "outputs": [
        {
          "output_type": "execute_result",
          "data": {
            "text/plain": [
              "True"
            ]
          },
          "metadata": {},
          "execution_count": 58
        }
      ]
    },
    {
      "cell_type": "code",
      "source": [
        "i > j"
      ],
      "metadata": {
        "colab": {
          "base_uri": "https://localhost:8080/"
        },
        "id": "AmbX9Zvp-1UD",
        "outputId": "dce33c6a-4702-4cc9-86f9-dfc6c0838799"
      },
      "execution_count": 59,
      "outputs": [
        {
          "output_type": "execute_result",
          "data": {
            "text/plain": [
              "False"
            ]
          },
          "metadata": {},
          "execution_count": 59
        }
      ]
    },
    {
      "cell_type": "code",
      "source": [
        "i < j"
      ],
      "metadata": {
        "colab": {
          "base_uri": "https://localhost:8080/"
        },
        "id": "P84AtcJQ-1XM",
        "outputId": "867ae18e-d6c9-403d-9da1-176599da8f12"
      },
      "execution_count": 60,
      "outputs": [
        {
          "output_type": "execute_result",
          "data": {
            "text/plain": [
              "True"
            ]
          },
          "metadata": {},
          "execution_count": 60
        }
      ]
    },
    {
      "cell_type": "code",
      "source": [
        "i >= j"
      ],
      "metadata": {
        "colab": {
          "base_uri": "https://localhost:8080/"
        },
        "id": "RWgu4R_3E_OQ",
        "outputId": "eb12ba9a-e3e5-4fd3-bc8f-e053f3ea0409"
      },
      "execution_count": 61,
      "outputs": [
        {
          "output_type": "execute_result",
          "data": {
            "text/plain": [
              "False"
            ]
          },
          "metadata": {},
          "execution_count": 61
        }
      ]
    },
    {
      "cell_type": "code",
      "source": [
        "j = 10\n",
        "i <= j"
      ],
      "metadata": {
        "colab": {
          "base_uri": "https://localhost:8080/"
        },
        "id": "MkVFltSMFA4X",
        "outputId": "cf34ee4a-3655-4ed3-9d55-1f7b6d84771b"
      },
      "execution_count": 62,
      "outputs": [
        {
          "output_type": "execute_result",
          "data": {
            "text/plain": [
              "True"
            ]
          },
          "metadata": {},
          "execution_count": 62
        }
      ]
    },
    {
      "cell_type": "markdown",
      "source": [
        "**Stringlerde Karşılaştırma**"
      ],
      "metadata": {
        "id": "8g0JCZQqFUoT"
      }
    },
    {
      "cell_type": "code",
      "source": [
        "\"Elma\" == \"elma\""
      ],
      "metadata": {
        "colab": {
          "base_uri": "https://localhost:8080/"
        },
        "id": "M3qIy4wEFD3a",
        "outputId": "3461e716-4d6d-47ef-aa02-bda3c8f10b38"
      },
      "execution_count": 63,
      "outputs": [
        {
          "output_type": "execute_result",
          "data": {
            "text/plain": [
              "False"
            ]
          },
          "metadata": {},
          "execution_count": 63
        }
      ]
    },
    {
      "cell_type": "code",
      "source": [
        "\"Elma\" == \"Elma\""
      ],
      "metadata": {
        "colab": {
          "base_uri": "https://localhost:8080/"
        },
        "id": "i71vftA1Faan",
        "outputId": "6eab98ab-fbeb-48d9-db16-011f2626e9b4"
      },
      "execution_count": 64,
      "outputs": [
        {
          "output_type": "execute_result",
          "data": {
            "text/plain": [
              "True"
            ]
          },
          "metadata": {},
          "execution_count": 64
        }
      ]
    },
    {
      "cell_type": "code",
      "source": [
        "\"a\" < \"b\""
      ],
      "metadata": {
        "colab": {
          "base_uri": "https://localhost:8080/"
        },
        "id": "TgLiQqhNFciX",
        "outputId": "ae1330a1-2ac5-48e8-ddfa-dc4cca9e9aa4"
      },
      "execution_count": 65,
      "outputs": [
        {
          "output_type": "execute_result",
          "data": {
            "text/plain": [
              "True"
            ]
          },
          "metadata": {},
          "execution_count": 65
        }
      ]
    },
    {
      "cell_type": "code",
      "source": [
        "\"cb\" < \"bb\""
      ],
      "metadata": {
        "colab": {
          "base_uri": "https://localhost:8080/"
        },
        "id": "Kd_lO-MZFwGX",
        "outputId": "e0035a77-9b4f-426e-c114-277824689a3f"
      },
      "execution_count": 66,
      "outputs": [
        {
          "output_type": "execute_result",
          "data": {
            "text/plain": [
              "False"
            ]
          },
          "metadata": {},
          "execution_count": 66
        }
      ]
    },
    {
      "cell_type": "markdown",
      "source": [
        "**Mantıksal Operatörler (Logical Operators)**"
      ],
      "metadata": {
        "id": "e8PVnpQ_GMwf"
      }
    },
    {
      "cell_type": "markdown",
      "source": [
        "* not operatörü"
      ],
      "metadata": {
        "id": "jA86bDatGgmf"
      }
    },
    {
      "cell_type": "code",
      "source": [
        "not True"
      ],
      "metadata": {
        "colab": {
          "base_uri": "https://localhost:8080/"
        },
        "id": "PlCkzBh2Fzgf",
        "outputId": "4e680d72-d338-4e60-a24b-a60b3920159c"
      },
      "execution_count": 67,
      "outputs": [
        {
          "output_type": "execute_result",
          "data": {
            "text/plain": [
              "False"
            ]
          },
          "metadata": {},
          "execution_count": 67
        }
      ]
    },
    {
      "cell_type": "code",
      "source": [
        "not 4 > 5"
      ],
      "metadata": {
        "colab": {
          "base_uri": "https://localhost:8080/"
        },
        "id": "Zq_adj0qGqwE",
        "outputId": "164c530b-c30c-457d-f0ee-ed70589fa108"
      },
      "execution_count": 68,
      "outputs": [
        {
          "output_type": "execute_result",
          "data": {
            "text/plain": [
              "True"
            ]
          },
          "metadata": {},
          "execution_count": 68
        }
      ]
    },
    {
      "cell_type": "markdown",
      "source": [
        "* and operatörü"
      ],
      "metadata": {
        "id": "x1cDAr6XG0nF"
      }
    },
    {
      "cell_type": "code",
      "source": [
        "True and True"
      ],
      "metadata": {
        "colab": {
          "base_uri": "https://localhost:8080/"
        },
        "id": "PZOUoRcRGt0Q",
        "outputId": "b3177127-6a32-45ad-c841-26d1246b4dc0"
      },
      "execution_count": 69,
      "outputs": [
        {
          "output_type": "execute_result",
          "data": {
            "text/plain": [
              "True"
            ]
          },
          "metadata": {},
          "execution_count": 69
        }
      ]
    },
    {
      "cell_type": "code",
      "source": [
        "a = 4\n",
        "b = 1\n",
        "c = 10"
      ],
      "metadata": {
        "id": "2h1QYToEHF6G"
      },
      "execution_count": 70,
      "outputs": []
    },
    {
      "cell_type": "code",
      "source": [
        "(a < b) and (b > c)"
      ],
      "metadata": {
        "colab": {
          "base_uri": "https://localhost:8080/"
        },
        "id": "Qc-u35YqHLRv",
        "outputId": "c7e67076-9618-42e9-b5fa-beaf4f0e3108"
      },
      "execution_count": 71,
      "outputs": [
        {
          "output_type": "execute_result",
          "data": {
            "text/plain": [
              "False"
            ]
          },
          "metadata": {},
          "execution_count": 71
        }
      ]
    },
    {
      "cell_type": "markdown",
      "source": [
        "* or operatörü"
      ],
      "metadata": {
        "id": "qcRGeQPHHW1e"
      }
    },
    {
      "cell_type": "code",
      "source": [
        "True or False"
      ],
      "metadata": {
        "colab": {
          "base_uri": "https://localhost:8080/"
        },
        "id": "TRIIhPwMHQZ-",
        "outputId": "2a96dbb0-c5ee-497e-dc9e-fa546f3f9438"
      },
      "execution_count": 72,
      "outputs": [
        {
          "output_type": "execute_result",
          "data": {
            "text/plain": [
              "True"
            ]
          },
          "metadata": {},
          "execution_count": 72
        }
      ]
    },
    {
      "cell_type": "code",
      "source": [
        "(a > b) or (c < b)"
      ],
      "metadata": {
        "colab": {
          "base_uri": "https://localhost:8080/"
        },
        "id": "HTLLG2WLHgMC",
        "outputId": "5a75b470-6669-4aea-a5dd-919a418a21b5"
      },
      "execution_count": 73,
      "outputs": [
        {
          "output_type": "execute_result",
          "data": {
            "text/plain": [
              "True"
            ]
          },
          "metadata": {},
          "execution_count": 73
        }
      ]
    },
    {
      "cell_type": "code",
      "source": [
        "(a < b) or (c < b)"
      ],
      "metadata": {
        "colab": {
          "base_uri": "https://localhost:8080/"
        },
        "id": "N07yR_GFHjJb",
        "outputId": "86b6cc44-ad07-4353-c85c-f5aba76e44f2"
      },
      "execution_count": 74,
      "outputs": [
        {
          "output_type": "execute_result",
          "data": {
            "text/plain": [
              "False"
            ]
          },
          "metadata": {},
          "execution_count": 74
        }
      ]
    },
    {
      "cell_type": "markdown",
      "source": [
        "**Short Circuit**"
      ],
      "metadata": {
        "id": "1OhG0jdGIIze"
      }
    },
    {
      "cell_type": "code",
      "source": [
        "(5 < 3) and print(\"hey\")"
      ],
      "metadata": {
        "colab": {
          "base_uri": "https://localhost:8080/"
        },
        "id": "gLxZ43TdHrZt",
        "outputId": "13d83c9d-dc68-4f75-889e-156362a9aa88"
      },
      "execution_count": 75,
      "outputs": [
        {
          "output_type": "execute_result",
          "data": {
            "text/plain": [
              "False"
            ]
          },
          "metadata": {},
          "execution_count": 75
        }
      ]
    },
    {
      "cell_type": "code",
      "source": [
        "(5 > 3) or print(\"hey\")"
      ],
      "metadata": {
        "colab": {
          "base_uri": "https://localhost:8080/"
        },
        "id": "-0N15SvsIRyQ",
        "outputId": "1fbe7676-0fd8-45d8-8406-1b4673ac74ca"
      },
      "execution_count": 76,
      "outputs": [
        {
          "output_type": "execute_result",
          "data": {
            "text/plain": [
              "True"
            ]
          },
          "metadata": {},
          "execution_count": 76
        }
      ]
    },
    {
      "cell_type": "code",
      "source": [
        "(5 < 3) or print(\"hey\")"
      ],
      "metadata": {
        "colab": {
          "base_uri": "https://localhost:8080/"
        },
        "id": "RnfrtT4TIWLr",
        "outputId": "842cc9ce-6927-4c50-bac9-1a82562adacf"
      },
      "execution_count": 77,
      "outputs": [
        {
          "output_type": "stream",
          "name": "stdout",
          "text": [
            "hey\n"
          ]
        }
      ]
    },
    {
      "cell_type": "code",
      "source": [
        "(5 > 3) and print(\"hey\")"
      ],
      "metadata": {
        "colab": {
          "base_uri": "https://localhost:8080/"
        },
        "id": "xL4bVAhJIhPo",
        "outputId": "37a40741-1d03-4640-99c5-f2716d1c65f8"
      },
      "execution_count": 78,
      "outputs": [
        {
          "output_type": "stream",
          "name": "stdout",
          "text": [
            "hey\n"
          ]
        }
      ]
    },
    {
      "cell_type": "markdown",
      "source": [
        "&"
      ],
      "metadata": {
        "id": "Sqy5kGMnJVj2"
      }
    },
    {
      "cell_type": "code",
      "source": [
        "(2 == 2) & (3 == 3)"
      ],
      "metadata": {
        "colab": {
          "base_uri": "https://localhost:8080/"
        },
        "id": "YEbosvSuImNb",
        "outputId": "9faa0ab3-943f-4914-a198-3eb6e7377a45"
      },
      "execution_count": 79,
      "outputs": [
        {
          "output_type": "execute_result",
          "data": {
            "text/plain": [
              "True"
            ]
          },
          "metadata": {},
          "execution_count": 79
        }
      ]
    },
    {
      "cell_type": "code",
      "source": [
        "# (5 < 3) & print(\"hey\")\n",
        "# hata alınır."
      ],
      "metadata": {
        "id": "wGMKvqVXJbzt"
      },
      "execution_count": 83,
      "outputs": []
    },
    {
      "cell_type": "markdown",
      "source": [
        "|"
      ],
      "metadata": {
        "id": "H0V-lApuJ3kw"
      }
    },
    {
      "cell_type": "code",
      "source": [
        "(2 == 2) | (3 == 3)"
      ],
      "metadata": {
        "colab": {
          "base_uri": "https://localhost:8080/"
        },
        "id": "KVouQ39-Jimh",
        "outputId": "dfaac368-57a0-4444-f579-f4ec98a84aef"
      },
      "execution_count": 84,
      "outputs": [
        {
          "output_type": "execute_result",
          "data": {
            "text/plain": [
              "True"
            ]
          },
          "metadata": {},
          "execution_count": 84
        }
      ]
    },
    {
      "cell_type": "code",
      "source": [
        "# (5 > 3) | print(\"hey\")\n",
        "# hata alınır."
      ],
      "metadata": {
        "id": "2XvuEvWfKCjC"
      },
      "execution_count": 86,
      "outputs": []
    },
    {
      "cell_type": "markdown",
      "source": [
        "Programı Dallandırma (Branching)"
      ],
      "metadata": {
        "id": "4vHSu8_kKhf-"
      }
    },
    {
      "cell_type": "markdown",
      "source": [
        "if"
      ],
      "metadata": {
        "id": "zBGAlaO_LQpV"
      }
    },
    {
      "cell_type": "code",
      "source": [
        "x = int(input(\"Bir sayı girin: \"))"
      ],
      "metadata": {
        "colab": {
          "base_uri": "https://localhost:8080/"
        },
        "id": "C_fdIDoSKHjQ",
        "outputId": "3e51f18d-8dc5-4e26-fc35-f9686fe801c1"
      },
      "execution_count": 87,
      "outputs": [
        {
          "name": "stdout",
          "output_type": "stream",
          "text": [
            "Bir sayı girin: 8\n"
          ]
        }
      ]
    },
    {
      "cell_type": "code",
      "source": [
        "if x % 2 == 0:\n",
        "  print(\"Sayınız çift sayı.\")\n",
        "\n",
        "print(\"Program sonlandı!\")"
      ],
      "metadata": {
        "colab": {
          "base_uri": "https://localhost:8080/"
        },
        "id": "m9dlmF7qLWu_",
        "outputId": "7c23503c-d395-42e7-c346-37cdaf70a57a"
      },
      "execution_count": 88,
      "outputs": [
        {
          "output_type": "stream",
          "name": "stdout",
          "text": [
            "Sayınız çift sayı.\n",
            "Program sonlandı!\n"
          ]
        }
      ]
    },
    {
      "cell_type": "markdown",
      "source": [
        "else"
      ],
      "metadata": {
        "id": "aGcvx0LNL5dE"
      }
    },
    {
      "cell_type": "code",
      "source": [
        "x = int(input(\"Bir sayı giriniz: \"))\n",
        "\n",
        "if x % 2 == 0:\n",
        "  print(\"Girilen sayı çifttir.\")\n",
        "else:\n",
        "  print(\"Girilen sayı tektir.\")\n",
        "\n",
        "print(\"Program sonlandı.\")"
      ],
      "metadata": {
        "colab": {
          "base_uri": "https://localhost:8080/"
        },
        "id": "-wSZeQWRLifT",
        "outputId": "17e77a27-bbfe-47fd-db0c-e5f73c2eafc9"
      },
      "execution_count": 89,
      "outputs": [
        {
          "output_type": "stream",
          "name": "stdout",
          "text": [
            "Bir sayı giriniz: 9\n",
            "Girilen sayı tektir.\n",
            "Program sonlandı.\n"
          ]
        }
      ]
    },
    {
      "cell_type": "markdown",
      "source": [
        "elif"
      ],
      "metadata": {
        "id": "uSMjOXVQMaSc"
      }
    },
    {
      "cell_type": "code",
      "source": [
        "x = int(input(\"Bir sayı giriniz: \"))\n",
        "\n",
        "if x < 10:\n",
        "  print(\"Sayı 10'dan küçük.\")\n",
        "elif x > 10:\n",
        "  print(\"Sayı 10'dan büyük.\")\n",
        "else:\n",
        "  print(\"Sayı 10'a eşit.\")"
      ],
      "metadata": {
        "colab": {
          "base_uri": "https://localhost:8080/"
        },
        "id": "CLBRPYxvMQje",
        "outputId": "7b31fb18-a09c-48b7-88eb-690c2fdcb814"
      },
      "execution_count": 92,
      "outputs": [
        {
          "output_type": "stream",
          "name": "stdout",
          "text": [
            "Bir sayı giriniz: 10\n",
            "Sayı 10'a eşit.\n"
          ]
        }
      ]
    },
    {
      "cell_type": "markdown",
      "source": [
        "Nested if"
      ],
      "metadata": {
        "id": "ndbiI17HNZfG"
      }
    },
    {
      "cell_type": "code",
      "source": [
        "x = int(input(\"Bir sayı giriniz: \"))\n",
        "\n",
        "if x % 3 == 0:\n",
        "  if x % 2 == 0:\n",
        "    print(\"Sayı hem 2 ye hem de 3 e bölünüyor.\")\n",
        "  else:\n",
        "    print(\"Sayı 3 e bölünüyor ama 2 ye bölünmüyor.\")\n",
        "\n",
        "else:\n",
        "  print(\"Sayı 3 e bölünmüyor.\")"
      ],
      "metadata": {
        "colab": {
          "base_uri": "https://localhost:8080/"
        },
        "id": "Yob6aAioMwGh",
        "outputId": "b328a8eb-8ca5-41a6-f2e0-6c42bcb4d43a"
      },
      "execution_count": 95,
      "outputs": [
        {
          "output_type": "stream",
          "name": "stdout",
          "text": [
            "Bir sayı giriniz: 9\n",
            "Sayı 3 e bölünüyor ama 2 ye bölünmüyor.\n"
          ]
        }
      ]
    },
    {
      "cell_type": "markdown",
      "source": [
        "**Ternary Conditionals**\n",
        "* Ternary Conditionals , if-else mantığını tek satırda kullanıp döndürülecek sonucu ona göre belirlememizi sağlayacak."
      ],
      "metadata": {
        "id": "Zo_0rWxCOuBM"
      }
    },
    {
      "cell_type": "code",
      "source": [
        "cevap = input(\"x in değeri 2 olsun mu? y/n: \")\n",
        "\n",
        "if cevap == \"y\":\n",
        "  x = 2\n",
        "else:\n",
        "  x = 0\n",
        "\n",
        "print(x)"
      ],
      "metadata": {
        "colab": {
          "base_uri": "https://localhost:8080/"
        },
        "id": "mMEJwT8bN51Q",
        "outputId": "1e783157-428f-4a81-a768-011b2c8c7dee"
      },
      "execution_count": 97,
      "outputs": [
        {
          "output_type": "stream",
          "name": "stdout",
          "text": [
            "x in değeri 2 olsun mu? y/n: y\n",
            "2\n"
          ]
        }
      ]
    },
    {
      "cell_type": "code",
      "source": [
        "cevap = input(\"x in değeri 2 olsun mu? y/n: \")\n",
        "\n",
        "x = 2 if cevap == \"y\" else 0\n",
        "\n",
        "print(x)"
      ],
      "metadata": {
        "colab": {
          "base_uri": "https://localhost:8080/"
        },
        "id": "xK_RvtqGPX-W",
        "outputId": "c20c993e-27f1-440a-bcf0-ac3bc2d40df8"
      },
      "execution_count": 99,
      "outputs": [
        {
          "output_type": "stream",
          "name": "stdout",
          "text": [
            "x in değeri 2 olsun mu? y/n: n\n",
            "0\n"
          ]
        }
      ]
    },
    {
      "cell_type": "markdown",
      "source": [
        "**while**\n",
        "* while döngüsünün içine yazdığımız yapı belirttiğim ifade doğru olduğu sürece çalışacak."
      ],
      "metadata": {
        "id": "V5jZIeUbQ4bQ"
      }
    },
    {
      "cell_type": "code",
      "source": [
        "x = int(input(\"Pozitif bir sayı giriniz: \"))\n",
        "\n",
        "while x < 0:\n",
        "  print(\"Negatif bir sayı girdiniz, lütfen pozitif bir sayı giriniz: \")\n",
        "  x = int(input(\"Tekrar deneyin: \"))\n",
        "\n",
        "print(\"Girilen sayı : \", x)"
      ],
      "metadata": {
        "colab": {
          "base_uri": "https://localhost:8080/"
        },
        "id": "PGZirwflPwqA",
        "outputId": "7f05b902-5ff3-4126-f10d-b4c43c22ba7a"
      },
      "execution_count": 100,
      "outputs": [
        {
          "output_type": "stream",
          "name": "stdout",
          "text": [
            "Pozitif bir sayı giriniz: -6\n",
            "Negatif bir sayı girdiniz, lütfen pozitif bir sayı giriniz: \n",
            "Tekrar deneyin: -8\n",
            "Negatif bir sayı girdiniz, lütfen pozitif bir sayı giriniz: \n",
            "Tekrar deneyin: 5\n",
            "Girilen sayı :  5\n"
          ]
        }
      ]
    },
    {
      "cell_type": "code",
      "source": [
        "x = 0\n",
        "toplam = 0\n",
        "\n",
        "while x <= 100:\n",
        "  toplam += x\n",
        "  x += 1\n",
        "\n",
        "print(toplam)"
      ],
      "metadata": {
        "colab": {
          "base_uri": "https://localhost:8080/"
        },
        "id": "IOmCDsKfSOcS",
        "outputId": "06493a77-123e-4c14-c924-51f1f5f6299f"
      },
      "execution_count": 101,
      "outputs": [
        {
          "output_type": "stream",
          "name": "stdout",
          "text": [
            "5050\n"
          ]
        }
      ]
    },
    {
      "cell_type": "markdown",
      "source": [
        "**for**\n"
      ],
      "metadata": {
        "id": "Ztc5KjnMTa1-"
      }
    },
    {
      "cell_type": "markdown",
      "source": [
        "for < değişken > in < obje >"
      ],
      "metadata": {
        "id": "-JaIrqg6Tzjg"
      }
    },
    {
      "cell_type": "code",
      "source": [
        "for c in \"hey\":\n",
        "  print(c)"
      ],
      "metadata": {
        "colab": {
          "base_uri": "https://localhost:8080/"
        },
        "id": "9FsG86b0TPNN",
        "outputId": "354b2e02-4199-47c6-c85a-e96072915f27"
      },
      "execution_count": 103,
      "outputs": [
        {
          "output_type": "stream",
          "name": "stdout",
          "text": [
            "h\n",
            "e\n",
            "y\n"
          ]
        }
      ]
    },
    {
      "cell_type": "code",
      "source": [
        "toplam = 0\n",
        "\n",
        "for x in range(101):\n",
        "  toplam += x\n",
        "\n",
        "print(toplam)"
      ],
      "metadata": {
        "colab": {
          "base_uri": "https://localhost:8080/"
        },
        "id": "B8tWpIKfUrvC",
        "outputId": "c15b024f-4133-48fb-e1cc-62f5bc2d4c10"
      },
      "execution_count": 104,
      "outputs": [
        {
          "output_type": "stream",
          "name": "stdout",
          "text": [
            "5050\n"
          ]
        }
      ]
    },
    {
      "cell_type": "code",
      "source": [
        "for x in range(6):\n",
        "  print(x)"
      ],
      "metadata": {
        "colab": {
          "base_uri": "https://localhost:8080/"
        },
        "id": "Mhs6yzvwU04v",
        "outputId": "8798596d-786f-4026-a05c-91bf94f42082"
      },
      "execution_count": 105,
      "outputs": [
        {
          "output_type": "stream",
          "name": "stdout",
          "text": [
            "0\n",
            "1\n",
            "2\n",
            "3\n",
            "4\n",
            "5\n"
          ]
        }
      ]
    },
    {
      "cell_type": "code",
      "source": [
        "toplam = 1\n",
        "\n",
        "for _ in range(3):\n",
        "  toplam *= 5\n",
        "\n",
        "print(toplam)"
      ],
      "metadata": {
        "colab": {
          "base_uri": "https://localhost:8080/"
        },
        "id": "V_Ekso1-VQvK",
        "outputId": "19550e78-499e-4408-daea-9face25bc713"
      },
      "execution_count": 106,
      "outputs": [
        {
          "output_type": "stream",
          "name": "stdout",
          "text": [
            "125\n"
          ]
        }
      ]
    },
    {
      "cell_type": "markdown",
      "source": [
        "for vs while"
      ],
      "metadata": {
        "id": "uD5vjSFBV71n"
      }
    },
    {
      "cell_type": "markdown",
      "source": [
        "* while yapısında kaç kere iterasyon yapacağımızı bilmiyoruz.\n",
        "* for da eleman sayısı kadar iterasyon var. (break veya continue ile bölünmezse)\n",
        "* Aslında for döngüsünü while döngüsü kullanarak yazabiliriz ancak while döngüsünü for kullanarak yazamayız. Çünkü for da test mekanizması yok."
      ],
      "metadata": {
        "id": "XxZGgIjVV_BG"
      }
    },
    {
      "cell_type": "markdown",
      "source": [
        "**break**\n"
      ],
      "metadata": {
        "id": "pu1ZQfOoWs0-"
      }
    },
    {
      "cell_type": "markdown",
      "source": [
        "* Bir şart sağlandığı zaman döngüden aniden çıkmak istiyorsak break kullanılır."
      ],
      "metadata": {
        "id": "PEjuDbrSW0l7"
      }
    },
    {
      "cell_type": "markdown",
      "source": [
        "**continue**"
      ],
      "metadata": {
        "id": "w0DHfC0EWvmK"
      }
    },
    {
      "cell_type": "markdown",
      "source": [
        "* Bir şart sağlandığı zaman bir sonraki iterasyondan devam etmek istiyorsak continue kullanılır."
      ],
      "metadata": {
        "id": "UHJZRLiXW7Ee"
      }
    },
    {
      "cell_type": "code",
      "source": [
        "for i in range(10):\n",
        "  if i == 3:\n",
        "    break\n",
        "  print(i)"
      ],
      "metadata": {
        "colab": {
          "base_uri": "https://localhost:8080/"
        },
        "id": "jZYOWDPAVut4",
        "outputId": "eefea4f1-7610-4cb6-9dc1-90abeb3d1054"
      },
      "execution_count": 108,
      "outputs": [
        {
          "output_type": "stream",
          "name": "stdout",
          "text": [
            "0\n",
            "1\n",
            "2\n"
          ]
        }
      ]
    },
    {
      "cell_type": "code",
      "source": [
        "for i in range(10):\n",
        "  if i == 3:\n",
        "    continue\n",
        "  print(i)"
      ],
      "metadata": {
        "colab": {
          "base_uri": "https://localhost:8080/"
        },
        "id": "xVJTqplBXrX3",
        "outputId": "a1e42cc2-8590-4fd2-ac06-41338b42f5b9"
      },
      "execution_count": 109,
      "outputs": [
        {
          "output_type": "stream",
          "name": "stdout",
          "text": [
            "0\n",
            "1\n",
            "2\n",
            "4\n",
            "5\n",
            "6\n",
            "7\n",
            "8\n",
            "9\n"
          ]
        }
      ]
    },
    {
      "cell_type": "code",
      "source": [
        "x = 0\n",
        "\n",
        "while x < 10:\n",
        "  x += 1\n",
        "  if x == 5:\n",
        "    break\n",
        "  print(x)"
      ],
      "metadata": {
        "colab": {
          "base_uri": "https://localhost:8080/"
        },
        "id": "FIpGcbk1X4pp",
        "outputId": "a7697353-9117-43dc-850b-25bfba4b09b8"
      },
      "execution_count": 112,
      "outputs": [
        {
          "output_type": "stream",
          "name": "stdout",
          "text": [
            "1\n",
            "2\n",
            "3\n",
            "4\n"
          ]
        }
      ]
    },
    {
      "cell_type": "code",
      "source": [
        "x = 0\n",
        "\n",
        "while x < 10:\n",
        "  x += 1\n",
        "  if x == 5:\n",
        "    continue\n",
        "  print(x)"
      ],
      "metadata": {
        "colab": {
          "base_uri": "https://localhost:8080/"
        },
        "id": "KddX1UcUYOQp",
        "outputId": "b17b44e2-a9f7-4281-d2c6-df6635388e94"
      },
      "execution_count": 113,
      "outputs": [
        {
          "output_type": "stream",
          "name": "stdout",
          "text": [
            "1\n",
            "2\n",
            "3\n",
            "4\n",
            "6\n",
            "7\n",
            "8\n",
            "9\n",
            "10\n"
          ]
        }
      ]
    },
    {
      "cell_type": "code",
      "source": [],
      "metadata": {
        "id": "pat8lDTfY9UN"
      },
      "execution_count": null,
      "outputs": []
    }
  ]
}